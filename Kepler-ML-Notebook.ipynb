{
 "cells": [
  {
   "cell_type": "code",
   "execution_count": 1,
   "metadata": {},
   "outputs": [
    {
     "name": "stderr",
     "output_type": "stream",
     "text": [
      "Using TensorFlow backend.\n"
     ]
    }
   ],
   "source": [
    "# plotting / charting  \n",
    "import matplotlib\n",
    "import matplotlib.pyplot as plt\n",
    "\n",
    "import pylab\n",
    "\n",
    "# numeric manipulation\n",
    "import numpy as np\n",
    "\n",
    "import pandas as pd\n",
    "\n",
    "from keras.utils.np_utils import to_categorical\n",
    "\n",
    "from scipy.ndimage import gaussian_filter1d\n",
    "\n",
    "from imblearn.over_sampling import SMOTE\n",
    "\n",
    "# CNN\n",
    "from keras.layers import Convolution1D, Dense, MaxPooling1D, Flatten, Dropout\n",
    "from keras.models import Sequential\n",
    "from sklearn.utils import shuffle\n",
    "from keras.optimizers import SGD\n",
    "from sklearn.metrics import *"
   ]
  },
  {
   "cell_type": "code",
   "execution_count": 2,
   "metadata": {},
   "outputs": [],
   "source": [
    "# enable display of charts\n",
    "%matplotlib inline"
   ]
  },
  {
   "cell_type": "code",
   "execution_count": 3,
   "metadata": {},
   "outputs": [],
   "source": [
    "import matplotlib\n",
    "import matplotlib.pyplot as plt\n",
    "import pylab\n",
    "from sklearn.utils.multiclass import unique_labels\n",
    "from sklearn.metrics import confusion_matrix\n",
    "#https://scikit-learn.org/stable/auto_examples/model_selection/plot_confusion_matrix.html#sphx-glr-auto-examples-model-selection-plot-confusion-matrix-py\n",
    "def plot_confusion_matrix(y_true, y_pred):\n",
    "    # compute confusion matrix\n",
    "    cm = confusion_matrix(y_true, y_pred)\n",
    "    cmap=plt.cm.Blues\n",
    "    title = 'Confusion matrix'    \n",
    "    classes = [\"non-exo\", \"exo\"]\n",
    "\n",
    "    fig, ax = plt.subplots()\n",
    "    im = ax.imshow(cm, interpolation='nearest', cmap=cmap)\n",
    "    ax.figure.colorbar(im, ax=ax)\n",
    "    # We want to show all ticks...\n",
    "    ax.set(xticks=np.arange(cm.shape[1]),\n",
    "           yticks=np.arange(cm.shape[0]),\n",
    "           # ... and label them with the respective list entries\n",
    "           xticklabels=classes, yticklabels=classes,\n",
    "           title=title,\n",
    "           ylabel='True label',\n",
    "           xlabel='Predicted label')\n",
    "\n",
    "    # Rotate the tick labels and set their alignment.\n",
    "    plt.setp(ax.get_xticklabels(), rotation=45, ha=\"right\",\n",
    "             rotation_mode=\"anchor\")\n",
    "\n",
    "    # Loop over data dimensions and create text annotations.\n",
    "    fmt =  'd'\n",
    "    thresh = cm.max() / 2.\n",
    "    for i in range(cm.shape[0]):\n",
    "        for j in range(cm.shape[1]):\n",
    "            ax.text(j, i, format(cm[i, j], fmt),\n",
    "                    ha=\"center\", va=\"center\",\n",
    "                    color=\"white\" if cm[i, j] > thresh else \"black\")\n",
    "    fig.tight_layout()"
   ]
  },
  {
   "cell_type": "code",
   "execution_count": 4,
   "metadata": {},
   "outputs": [],
   "source": [
    "def plot_data(data, lables=None):\n",
    "    fig = plt.figure(figsize = (25, 7));\n",
    "    ax = fig.add_subplot(1, 2, 1)\n",
    "    ax.set_title(\"Time\", fontsize = 14)\n",
    "    ax.set_xlabel(\"ticks\")\n",
    "    ax.set_ylabel(\"flux\")\n",
    "       \n",
    "    for d in data:\n",
    "        plt.plot(d)\n",
    "        \n",
    "    plt.grid()\n",
    "    ax.legend(lables)\n",
    "    fig.tight_layout()"
   ]
  },
  {
   "cell_type": "markdown",
   "metadata": {},
   "source": [
    "### import data"
   ]
  },
  {
   "cell_type": "code",
   "execution_count": 5,
   "metadata": {},
   "outputs": [],
   "source": [
    "train_df = pd.read_csv('data/exoTrain.csv')\n",
    "test_df = pd.read_csv('data/exoTest.csv')\n",
    "\n",
    "X_train_valid = train_df.drop([\"LABEL\"], axis=1).values\n",
    "y_train_valid = train_df[[\"LABEL\"]].values \n",
    "\n",
    "X_test = test_df.drop([\"LABEL\"], axis=1).values\n",
    "y_test = test_df[[\"LABEL\"]].values\n",
    "\n",
    "# combine both datasets into one \n",
    "exo_df = train_df.append(test_df)"
   ]
  },
  {
   "cell_type": "code",
   "execution_count": 6,
   "metadata": {},
   "outputs": [
    {
     "data": {
      "text/html": [
       "<div>\n",
       "<style>\n",
       "    .dataframe thead tr:only-child th {\n",
       "        text-align: right;\n",
       "    }\n",
       "\n",
       "    .dataframe thead th {\n",
       "        text-align: left;\n",
       "    }\n",
       "\n",
       "    .dataframe tbody tr th {\n",
       "        vertical-align: top;\n",
       "    }\n",
       "</style>\n",
       "<table border=\"1\" class=\"dataframe\">\n",
       "  <thead>\n",
       "    <tr style=\"text-align: right;\">\n",
       "      <th></th>\n",
       "      <th>LABEL</th>\n",
       "      <th>FLUX.1</th>\n",
       "      <th>FLUX.2</th>\n",
       "      <th>FLUX.3</th>\n",
       "      <th>FLUX.4</th>\n",
       "      <th>FLUX.5</th>\n",
       "      <th>FLUX.6</th>\n",
       "      <th>FLUX.7</th>\n",
       "      <th>FLUX.8</th>\n",
       "      <th>FLUX.9</th>\n",
       "      <th>...</th>\n",
       "      <th>FLUX.3188</th>\n",
       "      <th>FLUX.3189</th>\n",
       "      <th>FLUX.3190</th>\n",
       "      <th>FLUX.3191</th>\n",
       "      <th>FLUX.3192</th>\n",
       "      <th>FLUX.3193</th>\n",
       "      <th>FLUX.3194</th>\n",
       "      <th>FLUX.3195</th>\n",
       "      <th>FLUX.3196</th>\n",
       "      <th>FLUX.3197</th>\n",
       "    </tr>\n",
       "  </thead>\n",
       "  <tbody>\n",
       "    <tr>\n",
       "      <th>0</th>\n",
       "      <td>2</td>\n",
       "      <td>93.85</td>\n",
       "      <td>83.81</td>\n",
       "      <td>20.10</td>\n",
       "      <td>-26.98</td>\n",
       "      <td>-39.56</td>\n",
       "      <td>-124.71</td>\n",
       "      <td>-135.18</td>\n",
       "      <td>-96.27</td>\n",
       "      <td>-79.89</td>\n",
       "      <td>...</td>\n",
       "      <td>-78.07</td>\n",
       "      <td>-102.15</td>\n",
       "      <td>-102.15</td>\n",
       "      <td>25.13</td>\n",
       "      <td>48.57</td>\n",
       "      <td>92.54</td>\n",
       "      <td>39.32</td>\n",
       "      <td>61.42</td>\n",
       "      <td>5.08</td>\n",
       "      <td>-39.54</td>\n",
       "    </tr>\n",
       "    <tr>\n",
       "      <th>1</th>\n",
       "      <td>2</td>\n",
       "      <td>-38.88</td>\n",
       "      <td>-33.83</td>\n",
       "      <td>-58.54</td>\n",
       "      <td>-40.09</td>\n",
       "      <td>-79.31</td>\n",
       "      <td>-72.81</td>\n",
       "      <td>-86.55</td>\n",
       "      <td>-85.33</td>\n",
       "      <td>-83.97</td>\n",
       "      <td>...</td>\n",
       "      <td>-3.28</td>\n",
       "      <td>-32.21</td>\n",
       "      <td>-32.21</td>\n",
       "      <td>-24.89</td>\n",
       "      <td>-4.86</td>\n",
       "      <td>0.76</td>\n",
       "      <td>-11.70</td>\n",
       "      <td>6.46</td>\n",
       "      <td>16.00</td>\n",
       "      <td>19.93</td>\n",
       "    </tr>\n",
       "    <tr>\n",
       "      <th>2</th>\n",
       "      <td>2</td>\n",
       "      <td>532.64</td>\n",
       "      <td>535.92</td>\n",
       "      <td>513.73</td>\n",
       "      <td>496.92</td>\n",
       "      <td>456.45</td>\n",
       "      <td>466.00</td>\n",
       "      <td>464.50</td>\n",
       "      <td>486.39</td>\n",
       "      <td>436.56</td>\n",
       "      <td>...</td>\n",
       "      <td>-71.69</td>\n",
       "      <td>13.31</td>\n",
       "      <td>13.31</td>\n",
       "      <td>-29.89</td>\n",
       "      <td>-20.88</td>\n",
       "      <td>5.06</td>\n",
       "      <td>-11.80</td>\n",
       "      <td>-28.91</td>\n",
       "      <td>-70.02</td>\n",
       "      <td>-96.67</td>\n",
       "    </tr>\n",
       "    <tr>\n",
       "      <th>3</th>\n",
       "      <td>2</td>\n",
       "      <td>326.52</td>\n",
       "      <td>347.39</td>\n",
       "      <td>302.35</td>\n",
       "      <td>298.13</td>\n",
       "      <td>317.74</td>\n",
       "      <td>312.70</td>\n",
       "      <td>322.33</td>\n",
       "      <td>311.31</td>\n",
       "      <td>312.42</td>\n",
       "      <td>...</td>\n",
       "      <td>5.71</td>\n",
       "      <td>-3.73</td>\n",
       "      <td>-3.73</td>\n",
       "      <td>30.05</td>\n",
       "      <td>20.03</td>\n",
       "      <td>-12.67</td>\n",
       "      <td>-8.77</td>\n",
       "      <td>-17.31</td>\n",
       "      <td>-17.35</td>\n",
       "      <td>13.98</td>\n",
       "    </tr>\n",
       "    <tr>\n",
       "      <th>4</th>\n",
       "      <td>2</td>\n",
       "      <td>-1107.21</td>\n",
       "      <td>-1112.59</td>\n",
       "      <td>-1118.95</td>\n",
       "      <td>-1095.10</td>\n",
       "      <td>-1057.55</td>\n",
       "      <td>-1034.48</td>\n",
       "      <td>-998.34</td>\n",
       "      <td>-1022.71</td>\n",
       "      <td>-989.57</td>\n",
       "      <td>...</td>\n",
       "      <td>-594.37</td>\n",
       "      <td>-401.66</td>\n",
       "      <td>-401.66</td>\n",
       "      <td>-357.24</td>\n",
       "      <td>-443.76</td>\n",
       "      <td>-438.54</td>\n",
       "      <td>-399.71</td>\n",
       "      <td>-384.65</td>\n",
       "      <td>-411.79</td>\n",
       "      <td>-510.54</td>\n",
       "    </tr>\n",
       "  </tbody>\n",
       "</table>\n",
       "<p>5 rows × 3198 columns</p>\n",
       "</div>"
      ],
      "text/plain": [
       "   LABEL   FLUX.1   FLUX.2   FLUX.3   FLUX.4   FLUX.5   FLUX.6  FLUX.7  \\\n",
       "0      2    93.85    83.81    20.10   -26.98   -39.56  -124.71 -135.18   \n",
       "1      2   -38.88   -33.83   -58.54   -40.09   -79.31   -72.81  -86.55   \n",
       "2      2   532.64   535.92   513.73   496.92   456.45   466.00  464.50   \n",
       "3      2   326.52   347.39   302.35   298.13   317.74   312.70  322.33   \n",
       "4      2 -1107.21 -1112.59 -1118.95 -1095.10 -1057.55 -1034.48 -998.34   \n",
       "\n",
       "    FLUX.8  FLUX.9    ...      FLUX.3188  FLUX.3189  FLUX.3190  FLUX.3191  \\\n",
       "0   -96.27  -79.89    ...         -78.07    -102.15    -102.15      25.13   \n",
       "1   -85.33  -83.97    ...          -3.28     -32.21     -32.21     -24.89   \n",
       "2   486.39  436.56    ...         -71.69      13.31      13.31     -29.89   \n",
       "3   311.31  312.42    ...           5.71      -3.73      -3.73      30.05   \n",
       "4 -1022.71 -989.57    ...        -594.37    -401.66    -401.66    -357.24   \n",
       "\n",
       "   FLUX.3192  FLUX.3193  FLUX.3194  FLUX.3195  FLUX.3196  FLUX.3197  \n",
       "0      48.57      92.54      39.32      61.42       5.08     -39.54  \n",
       "1      -4.86       0.76     -11.70       6.46      16.00      19.93  \n",
       "2     -20.88       5.06     -11.80     -28.91     -70.02     -96.67  \n",
       "3      20.03     -12.67      -8.77     -17.31     -17.35      13.98  \n",
       "4    -443.76    -438.54    -399.71    -384.65    -411.79    -510.54  \n",
       "\n",
       "[5 rows x 3198 columns]"
      ]
     },
     "execution_count": 6,
     "metadata": {},
     "output_type": "execute_result"
    }
   ],
   "source": [
    "# visualise a sample of the dataset\n",
    "exo_df.head(n=5)"
   ]
  },
  {
   "cell_type": "markdown",
   "metadata": {},
   "source": [
    "### Data Exploration"
   ]
  },
  {
   "cell_type": "code",
   "execution_count": 7,
   "metadata": {},
   "outputs": [
    {
     "name": "stdout",
     "output_type": "stream",
     "text": [
      "# Exoplanets:\t\t42\n",
      "# Non-Exoplanets:\t5615\n",
      "# Total:\t\t5657\n"
     ]
    },
    {
     "data": {
      "image/png": "[encoded data removed]",
      "text/plain": [
       "<matplotlib.figure.Figure at 0x7f80553657b8>"
      ]
     },
     "metadata": {},
     "output_type": "display_data"
    }
   ],
   "source": [
    "num_exo = exo_df[exo_df['LABEL'] == 2].shape[0]\n",
    "num_non_exo = exo_df[exo_df['LABEL'] == 1].shape[0]\n",
    "\n",
    "print('# Exoplanets:\\t\\t%s' % num_exo)\n",
    "print('# Non-Exoplanets:\\t%s' % num_non_exo)\n",
    "print('# Total:\\t\\t%s' % (num_exo + num_non_exo))\n",
    "\n",
    "labels = 'Exoplanets', 'Non-Exoplanets'\n",
    "sizes = [num_exo, num_non_exo]\n",
    "explode = [0.1, 0]\n",
    "\n",
    "fig, ax = plt.subplots(figsize=(6, 3), subplot_kw=dict(aspect=\"equal\"))\n",
    "def func(pct, allvals):\n",
    "    absolute = int(pct/100.*np.sum(allvals))  \n",
    "    \n",
    "\n",
    "    return \"{:.1f}%\\n({:d})\".format(pct, absolute)\n",
    "\n",
    "\n",
    "wedges, texts, autotexts = ax.pie(sizes, autopct=lambda pct: func(pct, sizes),\n",
    "                                  textprops=dict(color=\"w\"))\n",
    "\n",
    "ax.legend(wedges, labels,\n",
    "          loc=\"center left\",\n",
    "          bbox_to_anchor=(1, 0, 0.5, 1))\n",
    "\n",
    "plt.setp(autotexts, size=12, weight=\"bold\")\n",
    "ax.set_title(\"Dataset Labels\")\n",
    "\n",
    "plt.show()"
   ]
  },
  {
   "cell_type": "code",
   "execution_count": 8,
   "metadata": {},
   "outputs": [
    {
     "data": {
      "image/png": "[encoded data removed]",
      "text/plain": [
       "<matplotlib.figure.Figure at 0x7f805523a358>"
      ]
     },
     "metadata": {},
     "output_type": "display_data"
    }
   ],
   "source": [
    "# select an initial trace of flux values\n",
    "ts_1 = exo_df[exo_df['LABEL'] == 2].iloc[0].values\n",
    "ts_2 = exo_df[exo_df['LABEL'] == 2].iloc[17].values\n",
    "\n",
    "ts_3 = exo_df[exo_df['LABEL'] == 1].iloc[0].values\n",
    "ts_4 = exo_df[exo_df['LABEL'] == 1].iloc[17].values\n",
    "\n",
    "\n",
    "labels = ['exo_1', 'exo_2', 'non_exo_1', 'non_exo_2']\n",
    "plot_data([ts_1, ts_2, ts_3, ts_4], labels)\n"
   ]
  },
  {
   "cell_type": "markdown",
   "metadata": {},
   "source": [
    "### Data Pre-Processing"
   ]
  },
  {
   "cell_type": "code",
   "execution_count": 9,
   "metadata": {},
   "outputs": [],
   "source": [
    "# https://en.wikipedia.org/wiki/Feature_scaling- see Standardization\n",
    "# https://scikit-learn.org/stable/modules/preprocessing.html\n",
    "from sklearn import preprocessing\n",
    "# smooth data\n",
    "from scipy.ndimage import gaussian_filter1d\n",
    "\n",
    "def preprocess_data(data):\n",
    "    \"\"\"\n",
    "    Prepares time series data for processing.\n",
    "    \"\"\"    \n",
    "    processed_data = np.array([np.array(preprocessing.scale(series)) for series in data])\n",
    "    \n",
    "    \n",
    "    return processed_data"
   ]
  },
  {
   "cell_type": "code",
   "execution_count": 10,
   "metadata": {},
   "outputs": [],
   "source": [
    "# apply standardisation to each series\n",
    "X_train_valid = preprocess_data(X_train_valid)\n",
    "X_test = preprocess_data(X_test)"
   ]
  },
  {
   "cell_type": "code",
   "execution_count": 11,
   "metadata": {},
   "outputs": [
    {
     "name": "stdout",
     "output_type": "stream",
     "text": [
      "37\n",
      "5\n"
     ]
    }
   ],
   "source": [
    "# one-hot encode y labels\n",
    "y_train_valid = (y_train_valid - 1).flatten()\n",
    "y_test = (y_test - 1).flatten()\n",
    "print(sum(y_train_valid))\n",
    "print(sum(y_test))"
   ]
  },
  {
   "cell_type": "markdown",
   "metadata": {},
   "source": [
    "### Metrics"
   ]
  },
  {
   "cell_type": "code",
   "execution_count": 12,
   "metadata": {},
   "outputs": [],
   "source": [
    "from sklearn.metrics import precision_score,recall_score, f1_score\n",
    "\n",
    "def score_model(y_true, y_prediction):\n",
    "    precision = precision_score(y_true, y_prediction)\n",
    "    recall = recall_score(y_true, y_prediction)\n",
    "    f1 = f1_score(y_true, y_prediction)\n",
    "    print(\"Scores:\\n-------\")    \n",
    "    print(\"Precision:\\t%f\" % precision)\n",
    "    print(\"Recall:\\t\\t%f\" % recall)\n",
    "    print(\"F1:\\t\\t%f\" % f1)"
   ]
  },
  {
   "cell_type": "markdown",
   "metadata": {},
   "source": [
    "### Benchmark Model - Supervised Learning"
   ]
  },
  {
   "cell_type": "code",
   "execution_count": 13,
   "metadata": {},
   "outputs": [],
   "source": [
    "from sklearn.ensemble import AdaBoostClassifier\n",
    "from sklearn.tree import DecisionTreeClassifier\n",
    "from sklearn.metrics import make_scorer\n",
    "from sklearn.model_selection import GridSearchCV, ShuffleSplit"
   ]
  },
  {
   "cell_type": "code",
   "execution_count": 14,
   "metadata": {},
   "outputs": [
    {
     "name": "stdout",
     "output_type": "stream",
     "text": [
      "Fitting 3 folds for each of 4 candidates, totalling 12 fits\n",
      "[CV] base_estimator__criterion=gini, base_estimator__min_samples_leaf=1 \n"
     ]
    },
    {
     "name": "stderr",
     "output_type": "stream",
     "text": [
      "[Parallel(n_jobs=1)]: Using backend SequentialBackend with 1 concurrent workers.\n"
     ]
    },
    {
     "name": "stdout",
     "output_type": "stream",
     "text": [
      "[CV]  base_estimator__criterion=gini, base_estimator__min_samples_leaf=1, score=0.3076923076923077, total=   2.6s\n",
      "[CV] base_estimator__criterion=gini, base_estimator__min_samples_leaf=1 \n"
     ]
    },
    {
     "name": "stderr",
     "output_type": "stream",
     "text": [
      "[Parallel(n_jobs=1)]: Done   1 out of   1 | elapsed:    2.6s remaining:    0.0s\n"
     ]
    },
    {
     "name": "stdout",
     "output_type": "stream",
     "text": [
      "[CV]  base_estimator__criterion=gini, base_estimator__min_samples_leaf=1, score=0.16666666666666666, total=   3.0s\n",
      "[CV] base_estimator__criterion=gini, base_estimator__min_samples_leaf=1 \n"
     ]
    },
    {
     "name": "stderr",
     "output_type": "stream",
     "text": [
      "[Parallel(n_jobs=1)]: Done   2 out of   2 | elapsed:    5.6s remaining:    0.0s\n"
     ]
    },
    {
     "name": "stdout",
     "output_type": "stream",
     "text": [
      "[CV]  base_estimator__criterion=gini, base_estimator__min_samples_leaf=1, score=0.08333333333333333, total=   2.8s\n",
      "[CV] base_estimator__criterion=gini, base_estimator__min_samples_leaf=2 \n",
      "[CV]  base_estimator__criterion=gini, base_estimator__min_samples_leaf=2, score=0.0, total=  40.3s\n",
      "[CV] base_estimator__criterion=gini, base_estimator__min_samples_leaf=2 \n",
      "[CV]  base_estimator__criterion=gini, base_estimator__min_samples_leaf=2, score=0.0, total=  40.9s\n",
      "[CV] base_estimator__criterion=gini, base_estimator__min_samples_leaf=2 \n",
      "[CV]  base_estimator__criterion=gini, base_estimator__min_samples_leaf=2, score=0.08333333333333333, total=  44.1s\n",
      "[CV] base_estimator__criterion=entropy, base_estimator__min_samples_leaf=1 \n",
      "[CV]  base_estimator__criterion=entropy, base_estimator__min_samples_leaf=1, score=0.15384615384615385, total=   2.7s\n",
      "[CV] base_estimator__criterion=entropy, base_estimator__min_samples_leaf=1 \n",
      "[CV]  base_estimator__criterion=entropy, base_estimator__min_samples_leaf=1, score=0.16666666666666666, total=   1.7s\n",
      "[CV] base_estimator__criterion=entropy, base_estimator__min_samples_leaf=1 \n",
      "[CV]  base_estimator__criterion=entropy, base_estimator__min_samples_leaf=1, score=0.08333333333333333, total=   2.3s\n",
      "[CV] base_estimator__criterion=entropy, base_estimator__min_samples_leaf=2 \n",
      "[CV]  base_estimator__criterion=entropy, base_estimator__min_samples_leaf=2, score=0.15384615384615385, total=   2.7s\n",
      "[CV] base_estimator__criterion=entropy, base_estimator__min_samples_leaf=2 \n",
      "[CV]  base_estimator__criterion=entropy, base_estimator__min_samples_leaf=2, score=0.0, total= 1.5min\n",
      "[CV] base_estimator__criterion=entropy, base_estimator__min_samples_leaf=2 \n",
      "[CV]  base_estimator__criterion=entropy, base_estimator__min_samples_leaf=2, score=0.08333333333333333, total= 1.6min\n"
     ]
    },
    {
     "name": "stderr",
     "output_type": "stream",
     "text": [
      "[Parallel(n_jobs=1)]: Done  12 out of  12 | elapsed:  5.4min finished\n",
      "/home/ubuntu/.local/lib/python3.5/site-packages/sklearn/model_selection/_search.py:841: DeprecationWarning: The default of the `iid` parameter will change from True to False in version 0.22 and will be removed in 0.24. This will change numeric results when test-set sizes are unequal.\n",
      "  DeprecationWarning)\n"
     ]
    },
    {
     "data": {
      "text/plain": [
       "AdaBoostClassifier(algorithm='SAMME.R',\n",
       "          base_estimator=DecisionTreeClassifier(class_weight=None, criterion='gini', max_depth=None,\n",
       "            max_features=None, max_leaf_nodes=None,\n",
       "            min_impurity_decrease=0.0, min_impurity_split=None,\n",
       "            min_samples_leaf=1, min_samples_split=2,\n",
       "            min_weight_fraction_leaf=0.0, presort=False, random_state=None,\n",
       "            splitter='best'),\n",
       "          learning_rate=1.0, n_estimators=50, random_state=None)"
      ]
     },
     "execution_count": 14,
     "metadata": {},
     "output_type": "execute_result"
    }
   ],
   "source": [
    "dtc = DecisionTreeClassifier()\n",
    "ada_model = AdaBoostClassifier(dtc) \n",
    "\n",
    "params = {\"base_estimator__criterion\" : [\"gini\", \"entropy\"], \"base_estimator__min_samples_leaf\": [1,2] }\n",
    "\n",
    "score_fn = make_scorer(recall_score)    \n",
    "\n",
    "grid = GridSearchCV(estimator=ada_model, param_grid=params, scoring=score_fn, cv=3, verbose=3)\n",
    "grid = grid.fit(X_train_valid[:1200], y_train_valid[:1200])\n",
    "grid.best_estimator_"
   ]
  },
  {
   "cell_type": "code",
   "execution_count": 15,
   "metadata": {},
   "outputs": [
    {
     "name": "stdout",
     "output_type": "stream",
     "text": [
      "Scores:\n",
      "-------\n",
      "Precision:\t0.045455\n",
      "Recall:\t\t0.200000\n",
      "F1:\t\t0.074074\n"
     ]
    },
    {
     "data": {
      "image/png": "[encoded data removed]",
      "text/plain": [
       "<matplotlib.figure.Figure at 0x7f8055210470>"
      ]
     },
     "metadata": {},
     "output_type": "display_data"
    }
   ],
   "source": [
    "y_pred = grid.best_estimator_.predict(X_test)\n",
    "# display results\n",
    "plot_confusion_matrix(y_test, y_pred)\n",
    "score_model(y_test, y_pred)"
   ]
  },
  {
   "cell_type": "markdown",
   "metadata": {},
   "source": [
    "### Util Methods"
   ]
  },
  {
   "cell_type": "code",
   "execution_count": 17,
   "metadata": {},
   "outputs": [],
   "source": [
    "def sub_selection (X, y, size):\n",
    "    \"\"\"\n",
    "    Subselects data and includes all positives samples in the output dataset.\n",
    "    \"\"\"\n",
    "    x_pos = X[y == 1]\n",
    "    x_neg = X[y == 0]\n",
    "    \n",
    "    X_output = np.vstack([x_pos, x_neg])\n",
    "    y_output = np.hstack([np.ones(len(x_pos)), np.zeros(len(x_neg))])\n",
    "    \n",
    "    return X_output[:size], y_output[:size]\n",
    "\n",
    "def reshape_X_tensor(X):\n",
    "    \"\"\"\n",
    "    Common reshape function that is used to transform 2D matrix. \n",
    "    \"\"\"\n",
    "    return X.reshape(X.shape[0], X.shape[1], 1)\n",
    "\n",
    "def display_tensor_attributes(X, y):\n",
    "    \"\"\"\n",
    "    Displays useful information about the input tensors.\n",
    "    \"\"\"  \n",
    "    print(\"X Size: %s\" % str(X.shape))\n",
    "    print(\"Y Size: %d\" % len(y))\n",
    "    print(\"Positive Samples: %d\" % sum(y))"
   ]
  },
  {
   "cell_type": "markdown",
   "metadata": {},
   "source": [
    "### Split data into train / valid / test"
   ]
  },
  {
   "cell_type": "code",
   "execution_count": 18,
   "metadata": {},
   "outputs": [
    {
     "name": "stdout",
     "output_type": "stream",
     "text": [
      "Exoplanets in train: 26\n",
      "Exoplanets in valid: 11\n",
      "Exoplanets in test: 5\n"
     ]
    }
   ],
   "source": [
    "from sklearn.model_selection import train_test_split\n",
    "\n",
    "X_train, X_valid, y_train, y_valid = train_test_split(X_train_valid, y_train_valid, test_size=0.3, random_state=7, stratify=y_train_valid)\n",
    "\n",
    "print(\"Exoplanets in train: %d\" % sum(y_train))\n",
    "print(\"Exoplanets in valid: %d\" % sum(y_valid))\n",
    "print(\"Exoplanets in test: %d\" % sum(y_test))"
   ]
  },
  {
   "cell_type": "code",
   "execution_count": 19,
   "metadata": {},
   "outputs": [
    {
     "name": "stdout",
     "output_type": "stream",
     "text": [
      "X Size: (1527, 3197, 1)\n",
      "Y Size: 1527\n",
      "Positive Samples: 11\n"
     ]
    }
   ],
   "source": [
    "X_to_valid = reshape_X_tensor(X_valid)\n",
    "display_tensor_attributes(X_to_valid, y_valid)"
   ]
  },
  {
   "cell_type": "markdown",
   "metadata": {},
   "source": [
    "### Augment Number of Training Exoplanets"
   ]
  },
  {
   "cell_type": "markdown",
   "metadata": {},
   "source": [
    "### Default Sample"
   ]
  },
  {
   "cell_type": "code",
   "execution_count": 23,
   "metadata": {},
   "outputs": [],
   "source": [
    "# sub-select data including all positives samples\n",
    "X_default_train, y_default_train = sub_selection(X_train, y_train, 1200)\n",
    "\n",
    "# reshape data for CNN\n",
    "X_default_train = reshape_X_tensor(X_default_train)"
   ]
  },
  {
   "cell_type": "code",
   "execution_count": 24,
   "metadata": {},
   "outputs": [
    {
     "name": "stdout",
     "output_type": "stream",
     "text": [
      "X Size: (1200, 3197, 1)\n",
      "Y Size: 1200\n",
      "Positive Samples: 26\n"
     ]
    }
   ],
   "source": [
    "# validate the input to CNN\n",
    "display_tensor_attributes(X_default_train, y_default_train)"
   ]
  },
  {
   "cell_type": "markdown",
   "metadata": {},
   "source": [
    "### Simple Oversampling"
   ]
  },
  {
   "cell_type": "code",
   "execution_count": 25,
   "metadata": {},
   "outputs": [],
   "source": [
    "def simple_oversample(X, y, repeat_pos=2):\n",
    "    # oversample all positive data for training only\n",
    "    positives = X[y == 1]\n",
    "    X_pos = positives\n",
    "\n",
    "    ## \n",
    "    X_new = np.array(X_pos)\n",
    "    for i in range(1,repeat_pos):\n",
    "        X_new = np.vstack([X_new, X_pos])\n",
    "    \n",
    "    X_new = np.vstack([X_new, X])\n",
    "    \n",
    "    y_new = np.hstack([np.ones(len(X_pos)*repeat_pos),  y])\n",
    "    return X_new, y_new"
   ]
  },
  {
   "cell_type": "code",
   "execution_count": 26,
   "metadata": {},
   "outputs": [],
   "source": [
    "X_simple_oversample, y_simple_oversample = simple_oversample(X_train, y_train, repeat_pos=2)\n",
    "\n",
    "# sub-select data including all positives samples\n",
    "X_simple_oversample_train, y_simple_oversample_train = sub_selection(X_simple_oversample, y_simple_oversample, 1200)\n",
    "\n",
    "# reshape data for CNN\n",
    "X_simple_oversample_train = reshape_X_tensor(X_simple_oversample_train)\n"
   ]
  },
  {
   "cell_type": "code",
   "execution_count": 27,
   "metadata": {},
   "outputs": [
    {
     "name": "stdout",
     "output_type": "stream",
     "text": [
      "X Size: (1200, 3197, 1)\n",
      "Y Size: 1200\n",
      "Positive Samples: 78\n"
     ]
    }
   ],
   "source": [
    "# validate the input to CNN\n",
    "display_tensor_attributes(X_simple_oversample_train, y_simple_oversample_train)"
   ]
  },
  {
   "cell_type": "markdown",
   "metadata": {},
   "source": [
    "### SMOTE - Synthetic Minority Over-Sampling Technquie"
   ]
  },
  {
   "cell_type": "code",
   "execution_count": 28,
   "metadata": {},
   "outputs": [
    {
     "name": "stdout",
     "output_type": "stream",
     "text": [
      "X Size: (7068, 3197, 1)\n",
      "Y Size: 7068\n",
      "Positive Samples: 3534\n"
     ]
    }
   ],
   "source": [
    "oversampler = SMOTE(random_state=2)\n",
    "# Create unique synthetic positive samples within the dataset. \n",
    "# The new samples are generated so they closely resemble other positive\n",
    "# samples in the set.\n",
    "# This attempts to address the natural imbalance within the original data.\n",
    "X_train_res, y_train_res = oversampler.fit_sample(X_train, y_train.ravel())\n",
    "\n",
    "X_smote_train = reshape_X_tensor(X_train_res)\n",
    "y_smote_train = y_train_res\n",
    "\n",
    "display_tensor_attributes(X_smote_train, y_smote_train)"
   ]
  },
  {
   "cell_type": "markdown",
   "metadata": {},
   "source": [
    "### Model Architecture"
   ]
  },
  {
   "cell_type": "code",
   "execution_count": 29,
   "metadata": {},
   "outputs": [],
   "source": [
    "from keras.layers import Convolution1D, Dense, MaxPooling1D, Flatten, Dropout\n",
    "from keras.models import Sequential\n",
    "from keras.callbacks import ModelCheckpoint\n",
    "from sklearn.utils import shuffle\n",
    "from keras.optimizers import SGD\n",
    "from sklearn.metrics import *"
   ]
  },
  {
   "cell_type": "code",
   "execution_count": 30,
   "metadata": {},
   "outputs": [
    {
     "name": "stdout",
     "output_type": "stream",
     "text": [
      "_________________________________________________________________\n",
      "Layer (type)                 Output Shape              Param #   \n",
      "=================================================================\n",
      "conv1d_1 (Conv1D)            (None, 3193, 64)          384       \n",
      "_________________________________________________________________\n",
      "max_pooling1d_1 (MaxPooling1 (None, 1596, 64)          0         \n",
      "_________________________________________________________________\n",
      "dropout_1 (Dropout)          (None, 1596, 64)          0         \n",
      "_________________________________________________________________\n",
      "conv1d_2 (Conv1D)            (None, 1572, 32)          51232     \n",
      "_________________________________________________________________\n",
      "dropout_2 (Dropout)          (None, 1572, 32)          0         \n",
      "_________________________________________________________________\n",
      "flatten_1 (Flatten)          (None, 50304)             0         \n",
      "_________________________________________________________________\n",
      "dense_1 (Dense)              (None, 1)                 50305     \n",
      "=================================================================\n",
      "Total params: 101,921\n",
      "Trainable params: 101,921\n",
      "Non-trainable params: 0\n",
      "_________________________________________________________________\n"
     ]
    }
   ],
   "source": [
    "model = Sequential()\n",
    "\n",
    "# convolutional layers\n",
    "model.add(Convolution1D(64, 5, input_shape=(3197,1), activation = 'relu'))\n",
    "model.add(MaxPooling1D())\n",
    "model.add(Dropout(0.5))\n",
    "\n",
    "model.add(Convolution1D(32, 25, activation='relu'))\n",
    "model.add(Dropout(0.6))\n",
    "\n",
    "# flatten layer\n",
    "model.add(Flatten())\n",
    "\n",
    "# dense layer\n",
    "model.add(Dense(1, activation='sigmoid'))\n",
    "\n",
    "model.summary()"
   ]
  },
  {
   "cell_type": "code",
   "execution_count": 31,
   "metadata": {},
   "outputs": [],
   "source": [
    "model.compile(loss='binary_crossentropy', optimizer='adam', metrics=['accuracy'])"
   ]
  },
  {
   "cell_type": "code",
   "execution_count": 32,
   "metadata": {},
   "outputs": [
    {
     "name": "stdout",
     "output_type": "stream",
     "text": [
      "Train on 1200 samples, validate on 1527 samples\n",
      "Epoch 1/10\n",
      "1080/1200 [==========================>...] - ETA: 2s - loss: 0.2077 - acc: 0.9204Epoch 00000: val_loss improved from inf to 0.31199, saving model to default.sample.hdf5\n",
      "1200/1200 [==============================] - 35s - loss: 0.2078 - acc: 0.9233 - val_loss: 0.3120 - val_acc: 0.9928\n",
      "Epoch 2/10\n",
      "1080/1200 [==========================>...] - ETA: 2s - loss: 0.1211 - acc: 0.9787Epoch 00001: val_loss improved from 0.31199 to 0.05135, saving model to default.sample.hdf5\n",
      "1200/1200 [==============================] - 35s - loss: 0.1204 - acc: 0.9783 - val_loss: 0.0514 - val_acc: 0.9928\n",
      "Epoch 3/10\n",
      "1080/1200 [==========================>...] - ETA: 2s - loss: 0.0979 - acc: 0.9778Epoch 00002: val_loss did not improve\n",
      "1200/1200 [==============================] - 35s - loss: 0.0954 - acc: 0.9783 - val_loss: 0.0550 - val_acc: 0.9928\n",
      "Epoch 4/10\n",
      "1080/1200 [==========================>...] - ETA: 2s - loss: 0.0911 - acc: 0.9778Epoch 00003: val_loss did not improve\n",
      "1200/1200 [==============================] - 35s - loss: 0.0879 - acc: 0.9783 - val_loss: 0.0620 - val_acc: 0.9928\n",
      "Epoch 5/10\n",
      "1080/1200 [==========================>...] - ETA: 2s - loss: 0.0788 - acc: 0.9796Epoch 00004: val_loss did not improve\n",
      "1200/1200 [==============================] - 35s - loss: 0.0820 - acc: 0.9783 - val_loss: 0.0677 - val_acc: 0.9928\n",
      "Epoch 6/10\n",
      "1080/1200 [==========================>...] - ETA: 2s - loss: 0.0772 - acc: 0.9778Epoch 00005: val_loss did not improve\n",
      "1200/1200 [==============================] - 35s - loss: 0.0763 - acc: 0.9783 - val_loss: 0.0610 - val_acc: 0.9928\n",
      "Epoch 7/10\n",
      "1080/1200 [==========================>...] - ETA: 2s - loss: 0.0713 - acc: 0.9778Epoch 00006: val_loss improved from 0.05135 to 0.04441, saving model to default.sample.hdf5\n",
      "1200/1200 [==============================] - 35s - loss: 0.0699 - acc: 0.9783 - val_loss: 0.0444 - val_acc: 0.9928\n",
      "Epoch 8/10\n",
      "1080/1200 [==========================>...] - ETA: 2s - loss: 0.0630 - acc: 0.9769Epoch 00007: val_loss did not improve\n",
      "1200/1200 [==============================] - 35s - loss: 0.0620 - acc: 0.9775 - val_loss: 0.0480 - val_acc: 0.9921\n",
      "Epoch 9/10\n",
      "1080/1200 [==========================>...] - ETA: 2s - loss: 0.0474 - acc: 0.9778Epoch 00008: val_loss did not improve\n",
      "1200/1200 [==============================] - 35s - loss: 0.0485 - acc: 0.9767 - val_loss: 0.0503 - val_acc: 0.9882\n",
      "Epoch 10/10\n",
      "1080/1200 [==========================>...] - ETA: 2s - loss: 0.0357 - acc: 0.9870Epoch 00009: val_loss improved from 0.04441 to 0.03666, saving model to default.sample.hdf5\n",
      "1200/1200 [==============================] - 35s - loss: 0.0365 - acc: 0.9875 - val_loss: 0.0367 - val_acc: 0.9908\n"
     ]
    }
   ],
   "source": [
    "# default sample\n",
    "checkpointer = ModelCheckpoint(filepath='default.sample.hdf5', verbose=1, save_best_only=True)\n",
    "\n",
    "simple_history = model.fit(X_default_train, y_default_train,\n",
    "          validation_data=(X_to_valid, y_valid),\n",
    "          batch_size = 120, epochs = 10,callbacks=[checkpointer], verbose = 1)"
   ]
  },
  {
   "cell_type": "code",
   "execution_count": 33,
   "metadata": {},
   "outputs": [
    {
     "name": "stdout",
     "output_type": "stream",
     "text": [
      "Scores:\n",
      "-------\n",
      "Precision:\t0.000000\n",
      "Recall:\t\t0.000000\n",
      "F1:\t\t0.000000\n"
     ]
    },
    {
     "data": {
      "image/png": "[encoded data removed]",
      "text/plain": [
       "<matplotlib.figure.Figure at 0x7f804463c7b8>"
      ]
     },
     "metadata": {},
     "output_type": "display_data"
    }
   ],
   "source": [
    "model.load_weights('default.sample.hdf5')\n",
    "y_predictions = model.predict(reshape_X_tensor(X_test))\n",
    "\n",
    "# display results\n",
    "plot_confusion_matrix(y_test, np.round(y_predictions))\n",
    "score_model(y_test, np.round(y_predictions))"
   ]
  },
  {
   "cell_type": "code",
   "execution_count": 40,
   "metadata": {},
   "outputs": [
    {
     "name": "stdout",
     "output_type": "stream",
     "text": [
      "Train on 1200 samples, validate on 1527 samples\n",
      "Epoch 1/10\n",
      "1080/1200 [==========================>...] - ETA: 2s - loss: 0.3777 - acc: 0.8648Epoch 00000: val_loss improved from inf to 0.13121, saving model to simple.oversample.hdf5\n",
      "1200/1200 [==============================] - 35s - loss: 0.3622 - acc: 0.8733 - val_loss: 0.1312 - val_acc: 0.9928\n",
      "Epoch 2/10\n",
      "1080/1200 [==========================>...] - ETA: 2s - loss: 0.2244 - acc: 0.9380Epoch 00001: val_loss did not improve\n",
      "1200/1200 [==============================] - 35s - loss: 0.2286 - acc: 0.9350 - val_loss: 0.1517 - val_acc: 0.9928\n",
      "Epoch 3/10\n",
      "1080/1200 [==========================>...] - ETA: 2s - loss: 0.2084 - acc: 0.9315Epoch 00002: val_loss improved from 0.13121 to 0.05162, saving model to simple.oversample.hdf5\n",
      "1200/1200 [==============================] - 34s - loss: 0.1975 - acc: 0.9350 - val_loss: 0.0516 - val_acc: 0.9928\n",
      "Epoch 4/10\n",
      "1080/1200 [==========================>...] - ETA: 2s - loss: 0.1609 - acc: 0.9380Epoch 00003: val_loss did not improve\n",
      "1200/1200 [==============================] - 35s - loss: 0.1620 - acc: 0.9358 - val_loss: 0.1018 - val_acc: 0.9915\n",
      "Epoch 5/10\n",
      "1080/1200 [==========================>...] - ETA: 2s - loss: 0.1274 - acc: 0.9398Epoch 00004: val_loss did not improve\n",
      "1200/1200 [==============================] - 35s - loss: 0.1230 - acc: 0.9425 - val_loss: 0.0590 - val_acc: 0.9876\n",
      "Epoch 6/10\n",
      "1080/1200 [==========================>...] - ETA: 2s - loss: 0.0805 - acc: 0.9722Epoch 00005: val_loss improved from 0.05162 to 0.04001, saving model to simple.oversample.hdf5\n",
      "1200/1200 [==============================] - 35s - loss: 0.0841 - acc: 0.9683 - val_loss: 0.0400 - val_acc: 0.9902\n",
      "Epoch 7/10\n",
      "1080/1200 [==========================>...] - ETA: 2s - loss: 0.0583 - acc: 0.9806Epoch 00006: val_loss improved from 0.04001 to 0.03662, saving model to simple.oversample.hdf5\n",
      "1200/1200 [==============================] - 35s - loss: 0.0549 - acc: 0.9825 - val_loss: 0.0366 - val_acc: 0.9882\n",
      "Epoch 8/10\n",
      "1080/1200 [==========================>...] - ETA: 2s - loss: 0.0429 - acc: 0.9824Epoch 00007: val_loss did not improve\n",
      "1200/1200 [==============================] - 35s - loss: 0.0402 - acc: 0.9842 - val_loss: 0.0422 - val_acc: 0.9856\n",
      "Epoch 9/10\n",
      "1080/1200 [==========================>...] - ETA: 2s - loss: 0.0252 - acc: 0.9926Epoch 00008: val_loss improved from 0.03662 to 0.03409, saving model to simple.oversample.hdf5\n",
      "1200/1200 [==============================] - 35s - loss: 0.0257 - acc: 0.9917 - val_loss: 0.0341 - val_acc: 0.9869\n",
      "Epoch 10/10\n",
      "1080/1200 [==========================>...] - ETA: 2s - loss: 0.0213 - acc: 0.9935Epoch 00009: val_loss improved from 0.03409 to 0.03053, saving model to simple.oversample.hdf5\n",
      "1200/1200 [==============================] - 35s - loss: 0.0228 - acc: 0.9933 - val_loss: 0.0305 - val_acc: 0.9902\n"
     ]
    }
   ],
   "source": [
    "# simple oversample\n",
    "checkpointer = ModelCheckpoint(filepath='simple.oversample.hdf5', verbose=1, save_best_only=True)\n",
    "\n",
    "simple_history = model.fit(X_simple_oversample_train, y_simple_oversample_train,\n",
    "          validation_data=(X_to_valid, y_valid),\n",
    "          batch_size = 120, epochs = 10,callbacks=[checkpointer], verbose = 1)"
   ]
  },
  {
   "cell_type": "code",
   "execution_count": 41,
   "metadata": {},
   "outputs": [
    {
     "name": "stdout",
     "output_type": "stream",
     "text": [
      "Scores:\n",
      "-------\n",
      "Precision:\t0.333333\n",
      "Recall:\t\t0.200000\n",
      "F1:\t\t0.250000\n"
     ]
    },
    {
     "data": {
      "image/png": "[encoded data removed]",
      "text/plain": [
       "<matplotlib.figure.Figure at 0x7f4a700a6ba8>"
      ]
     },
     "metadata": {},
     "output_type": "display_data"
    }
   ],
   "source": [
    "model.load_weights('simple.oversample.hdf5')\n",
    "y_predictions = model.predict(reshape_X_tensor(X_test))\n",
    "\n",
    "# display results\n",
    "plot_confusion_matrix(y_test, np.round(y_predictions))\n",
    "score_model(y_test, np.round(y_predictions))"
   ]
  },
  {
   "cell_type": "code",
   "execution_count": 42,
   "metadata": {},
   "outputs": [
    {
     "name": "stdout",
     "output_type": "stream",
     "text": [
      "Train on 7068 samples, validate on 1527 samples\n",
      "Epoch 1/10\n",
      "6960/7068 [============================>.] - ETA: 2s - loss: 0.0229 - acc: 0.9943Epoch 00000: val_loss improved from inf to 0.03076, saving model to smote.oversample.hdf5\n",
      "7068/7068 [==============================] - 157s - loss: 0.0226 - acc: 0.9943 - val_loss: 0.0308 - val_acc: 0.9915\n",
      "Epoch 2/10\n",
      "6960/7068 [============================>.] - ETA: 2s - loss: 0.0077 - acc: 0.9981Epoch 00001: val_loss did not improve\n",
      "7068/7068 [==============================] - 157s - loss: 0.0076 - acc: 0.9982 - val_loss: 0.0332 - val_acc: 0.9915\n",
      "Epoch 3/10\n",
      "6960/7068 [============================>.] - ETA: 2s - loss: 0.0037 - acc: 0.9990Epoch 00002: val_loss improved from 0.03076 to 0.02847, saving model to smote.oversample.hdf5\n",
      "7068/7068 [==============================] - 157s - loss: 0.0037 - acc: 0.9990 - val_loss: 0.0285 - val_acc: 0.9935\n",
      "Epoch 4/10\n",
      "6960/7068 [============================>.] - ETA: 2s - loss: 0.0025 - acc: 0.9994Epoch 00003: val_loss did not improve\n",
      "7068/7068 [==============================] - 157s - loss: 0.0025 - acc: 0.9994 - val_loss: 0.0302 - val_acc: 0.9935\n",
      "Epoch 5/10\n",
      "6960/7068 [============================>.] - ETA: 2s - loss: 0.0015 - acc: 0.9997Epoch 00004: val_loss did not improve\n",
      "7068/7068 [==============================] - 157s - loss: 0.0015 - acc: 0.9997 - val_loss: 0.0308 - val_acc: 0.9928\n",
      "Epoch 6/10\n",
      "6960/7068 [============================>.] - ETA: 2s - loss: 0.0011 - acc: 0.9999Epoch 00005: val_loss did not improve\n",
      "7068/7068 [==============================] - 157s - loss: 0.0010 - acc: 0.9999 - val_loss: 0.0336 - val_acc: 0.9935\n",
      "Epoch 7/10\n",
      "6960/7068 [============================>.] - ETA: 2s - loss: 0.0012 - acc: 0.9999Epoch 00006: val_loss did not improve\n",
      "7068/7068 [==============================] - 157s - loss: 0.0012 - acc: 0.9999 - val_loss: 0.0368 - val_acc: 0.9915\n",
      "Epoch 8/10\n",
      "6960/7068 [============================>.] - ETA: 2s - loss: 0.0016 - acc: 0.9996Epoch 00007: val_loss did not improve\n",
      "7068/7068 [==============================] - 157s - loss: 0.0016 - acc: 0.9996 - val_loss: 0.0387 - val_acc: 0.9935\n",
      "Epoch 9/10\n",
      "6960/7068 [============================>.] - ETA: 2s - loss: 7.2032e-04 - acc: 0.9999Epoch 00008: val_loss did not improve\n",
      "7068/7068 [==============================] - 157s - loss: 7.1693e-04 - acc: 0.9999 - val_loss: 0.0406 - val_acc: 0.9928\n",
      "Epoch 10/10\n",
      "6960/7068 [============================>.] - ETA: 2s - loss: 4.2876e-04 - acc: 1.0000Epoch 00009: val_loss did not improve\n",
      "7068/7068 [==============================] - 157s - loss: 4.2801e-04 - acc: 1.0000 - val_loss: 0.0425 - val_acc: 0.9928\n"
     ]
    }
   ],
   "source": [
    "# SMOTE\n",
    "checkpointer = ModelCheckpoint(filepath='smote.oversample.hdf5', verbose=1, save_best_only=True)\n",
    "\n",
    "svn_history = model.fit(X_smote_train, y_smote_train,\n",
    "          validation_data=(X_to_valid, y_valid),\n",
    "          batch_size = 120, epochs = 10, callbacks=[checkpointer], verbose = 1)"
   ]
  },
  {
   "cell_type": "code",
   "execution_count": 43,
   "metadata": {},
   "outputs": [
    {
     "name": "stdout",
     "output_type": "stream",
     "text": [
      "Scores:\n",
      "-------\n",
      "Precision:\t0.500000\n",
      "Recall:\t\t0.600000\n",
      "F1:\t\t0.545455\n"
     ]
    },
    {
     "data": {
      "image/png": "[encoded data removed]",
      "text/plain": [
       "<matplotlib.figure.Figure at 0x7f4a700c2e80>"
      ]
     },
     "metadata": {},
     "output_type": "display_data"
    }
   ],
   "source": [
    "model.load_weights('smote.oversample.hdf5')\n",
    "y_predictions = model.predict(reshape_X_tensor(X_test))\n",
    "\n",
    "# display results\n",
    "plot_confusion_matrix(y_test, np.round(y_predictions))\n",
    "score_model(y_test, np.round(y_predictions))"
   ]
  },
  {
   "cell_type": "markdown",
   "metadata": {},
   "source": [
    "---\n",
    "\n",
    "## Overall Results:\n",
    "\n",
    "|Model|Precision|Recall|F1|\n",
    "|---|---|---|---|\n",
    "|AdaBoost_benchmark|0.045455|0.200000|0.074074|\n",
    "|initial_cnn|0.000000|0.000000|0.000000|\n",
    "|cnn_simple_oversample|0.333333|0.200000|0.250000|\n",
    "|cnn_smote_oversample|0.500000|0.600000|0.545455|"
   ]
  },
  {
   "cell_type": "code",
   "execution_count": 2,
   "metadata": {},
   "outputs": [
    {
     "data": {
      "image/png": "[encoded data removed]",
      "text/plain": [
       "<Figure size 432x288 with 1 Axes>"
      ]
     },
     "metadata": {
      "needs_background": "light"
     },
     "output_type": "display_data"
    }
   ],
   "source": [
    "import numpy as np\n",
    "import matplotlib.pyplot as plt\n",
    "from matplotlib.ticker import MaxNLocator\n",
    "from collections import namedtuple\n",
    "n_groups = 4\n",
    "\n",
    "precision = (0.045455, 0.0, 0.333333, 0.500000)\n",
    "recall = (0.200, 0.00, 0.200, 0.600)\n",
    "f1 = (0.074074, 0.00000, 0.250, 0.545455)\n",
    "\n",
    "fig, ax = plt.subplots()\n",
    "\n",
    "index = np.arange(n_groups)\n",
    "bar_width = 0.28\n",
    "\n",
    "opacity = 0.4\n",
    "error_config = {'ecolor': '0.3'}\n",
    "\n",
    "rects1 = ax.bar(index, precision, bar_width,\n",
    "                alpha=opacity, color='b',\n",
    "                label='Precision')\n",
    "\n",
    "rects2 = ax.bar(index + bar_width, recall, bar_width,\n",
    "                alpha=opacity, color='r',\n",
    "                label='Recall')\n",
    "\n",
    "rects3 = ax.bar(index + bar_width+ bar_width, f1, bar_width,\n",
    "                alpha=opacity, color='g',\n",
    "                label='F1')\n",
    "\n",
    "ax.set_xlabel('Model')\n",
    "ax.set_ylabel('Scores')\n",
    "ax.set_title('')\n",
    "ax.set_xticks(index + bar_width + bar_width / 3)\n",
    "ax.set_xticklabels(('Benchmark', 'Initial CNN', 'CNN Oversample', 'CNN SMOTE'))\n",
    "ax.legend()\n",
    "\n",
    "fig.tight_layout()\n",
    "plt.show()"
   ]
  },
  {
   "cell_type": "code",
   "execution_count": null,
   "metadata": {},
   "outputs": [],
   "source": []
  }
 ],
 "metadata": {
  "kernelspec": {
   "display_name": "Python 3",
   "language": "python",
   "name": "python3"
  },
  "language_info": {
   "codemirror_mode": {
    "name": "ipython",
    "version": 3
   },
   "file_extension": ".py",
   "mimetype": "text/x-python",
   "name": "python",
   "nbconvert_exporter": "python",
   "pygments_lexer": "ipython3",
   "version": "3.7.3"
  }
 },
 "nbformat": 4,
 "nbformat_minor": 2
}
